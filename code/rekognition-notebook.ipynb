{
 "cells": [
  {
   "cell_type": "markdown",
   "id": "21a6ec4f",
   "metadata": {},
   "source": [
    "Comparing Faces"
   ]
  },
  {
   "cell_type": "code",
   "execution_count": null,
   "id": "f700e338",
   "metadata": {},
   "outputs": [],
   "source": [
    "import boto3\n",
    "import io\n",
    "from PIL import Image, ImageDraw, ExifTags, ImageColor\n",
    "\n",
    "rekognition_client=boto3.client('rekognition')\n",
    "s3_resource = boto3.resource('s3')"
   ]
  },
  {
   "cell_type": "code",
   "execution_count": null,
   "id": "4ada0ff2",
   "metadata": {},
   "outputs": [],
   "source": [
    "BUCKET =\"rekognition-test\"\n",
    "IMG_SOURCE =\"dataset/img01.jpg\"\n",
    "\n",
    "s3_object = s3_resource.Object(BUCKET,IMG_SOURCE)\n",
    "s3_response = s3_object.get()\n",
    "print(s3_response)\n",
    "\n",
    "# The image also can be load using s3 client.\n",
    "#s3_client = boto3.client('s3')\n",
    "#BUCKET =\"rekognition-test\"\n",
    "#IMG =\"dataset/img01.jpg\"\n",
    "#s3_response = s3_client.get_object(Bucket=BUCKET, Key=IMG_SOURCE)\n",
    "#print(s3_response)"
   ]
  },
  {
   "cell_type": "markdown",
   "id": "6d1aadab",
   "metadata": {},
   "source": [
    "Reconocimiento de caras utilizando detect_faces"
   ]
  },
  {
   "cell_type": "code",
   "execution_count": null,
   "id": "e84edf67",
   "metadata": {},
   "outputs": [],
   "source": [
    "response = rekognition_client.detect_faces(Image={'S3Object': {'Bucket': BUCKET, 'Name': IMG_SOURCE}},\n",
    "    Attributes=['ALL'])"
   ]
  },
  {
   "cell_type": "code",
   "execution_count": null,
   "id": "946da863",
   "metadata": {
    "scrolled": false
   },
   "outputs": [],
   "source": [
    "response"
   ]
  },
  {
   "cell_type": "code",
   "execution_count": null,
   "id": "75decab3",
   "metadata": {
    "scrolled": false
   },
   "outputs": [],
   "source": [
    "s3_object = s3_resource.Object(BUCKET,IMG_SOURCE)\n",
    "s3_response = s3_object.get()\n",
    "stream = io.BytesIO(s3_response['Body'].read())\n",
    "image=Image.open(stream)\n",
    "imgWidth, imgHeight = image.size  \n",
    "draw = ImageDraw.Draw(image)  \n",
    "      \n",
    "print('Caras detectadas para ' + IMG_SOURCE)    \n",
    "for faceDetail in response['FaceDetails']:\n",
    "    print('La edad de la cara detectada esta entre ' + str(faceDetail['AgeRange']['Low']) \n",
    "          + ' y ' + str(faceDetail['AgeRange']['High']) + ' años')\n",
    "\n",
    "    box = faceDetail['BoundingBox']\n",
    "    left = imgWidth * box['Left']\n",
    "    top = imgHeight * box['Top']\n",
    "    width = imgWidth * box['Width']\n",
    "    height = imgHeight * box['Height']\n",
    "\n",
    "    print('Left: ' + '{0:.0f}'.format(left))\n",
    "    print('Top: ' + '{0:.0f}'.format(top))\n",
    "    print('Face Width: ' + \"{0:.0f}\".format(width))\n",
    "    print('Face Height: ' + \"{0:.0f}\".format(height))\n",
    "\n",
    "    points = (\n",
    "        (left,top),\n",
    "        (left + width, top),\n",
    "        (left + width, top + height),\n",
    "        (left , top + height),\n",
    "        (left, top)\n",
    "\n",
    "    )\n",
    "    draw.line(points, fill='#00d400', width=2)\n",
    "\n",
    "image.show()"
   ]
  },
  {
   "cell_type": "markdown",
   "id": "66e10081",
   "metadata": {},
   "source": [
    "Caras Iguales"
   ]
  },
  {
   "cell_type": "code",
   "execution_count": null,
   "id": "ededf9c4",
   "metadata": {},
   "outputs": [],
   "source": [
    "IMG_SOURCE =\"dataset/img01.jpg\"\n",
    "IMG_TARGET =\"dataset/img01.jpg\"\n",
    "response = rekognition_client.compare_faces(\n",
    "                SourceImage={\n",
    "                    'S3Object': {\n",
    "                        'Bucket': BUCKET,\n",
    "                        'Name': IMG_SOURCE\n",
    "                    }\n",
    "                },\n",
    "                TargetImage={\n",
    "                    'S3Object': {\n",
    "                        'Bucket': BUCKET,\n",
    "                        'Name': IMG_TARGET                    \n",
    "                    }\n",
    "                }\n",
    ")"
   ]
  },
  {
   "cell_type": "code",
   "execution_count": null,
   "id": "b826579a",
   "metadata": {
    "scrolled": false
   },
   "outputs": [],
   "source": [
    "response"
   ]
  },
  {
   "cell_type": "code",
   "execution_count": null,
   "id": "8be62c02",
   "metadata": {
    "scrolled": false
   },
   "outputs": [],
   "source": [
    "# Analisis imagen source\n",
    "s3_object = s3_resource.Object(BUCKET,IMG_SOURCE)\n",
    "s3_response = s3_object.get()\n",
    "stream = io.BytesIO(s3_response['Body'].read())\n",
    "image=Image.open(stream)\n",
    "imgWidth, imgHeight = image.size  \n",
    "draw = ImageDraw.Draw(image)  \n",
    "\n",
    "box = response['SourceImageFace']['BoundingBox']\n",
    "left = imgWidth * box['Left']\n",
    "top = imgHeight * box['Top']\n",
    "width = imgWidth * box['Width']\n",
    "height = imgHeight * box['Height']\n",
    "\n",
    "print('Left: ' + '{0:.0f}'.format(left))\n",
    "print('Top: ' + '{0:.0f}'.format(top))\n",
    "print('Face Width: ' + \"{0:.0f}\".format(width))\n",
    "print('Face Height: ' + \"{0:.0f}\".format(height))\n",
    "\n",
    "points = (\n",
    "    (left,top),\n",
    "    (left + width, top),\n",
    "    (left + width, top + height),\n",
    "    (left , top + height),\n",
    "    (left, top)\n",
    "\n",
    ")\n",
    "draw.line(points, fill='#00d400', width=2)\n",
    "\n",
    "image.show()"
   ]
  },
  {
   "cell_type": "code",
   "execution_count": null,
   "id": "0dd8ca40",
   "metadata": {},
   "outputs": [],
   "source": [
    "# Analisis imagen target\n",
    "s3_object = s3_resource.Object(BUCKET,IMG_TARGET)\n",
    "s3_response = s3_object.get()\n",
    "stream = io.BytesIO(s3_response['Body'].read())\n",
    "image=Image.open(stream)\n",
    "imgWidth, imgHeight = image.size  \n",
    "draw = ImageDraw.Draw(image)  \n",
    "for face in response['FaceMatches']:\n",
    "    face_match = face['Face']\n",
    "    box = face_match['BoundingBox']\n",
    "    left = imgWidth * box['Left']\n",
    "    top = imgHeight * box['Top']\n",
    "    width = imgWidth * box['Width']\n",
    "    height = imgHeight * box['Height']\n",
    "\n",
    "    print('Left: ' + '{0:.0f}'.format(left))\n",
    "    print('Top: ' + '{0:.0f}'.format(top))\n",
    "    print('Face Width: ' + \"{0:.0f}\".format(width))\n",
    "    print('Face Height: ' + \"{0:.0f}\".format(height))\n",
    "\n",
    "    points = (\n",
    "        (left,top),\n",
    "        (left + width, top),\n",
    "        (left + width, top + height),\n",
    "        (left , top + height),\n",
    "        (left, top)\n",
    "\n",
    "    )\n",
    "    draw.line(points, fill='#00d400', width=2)\n",
    "\n",
    "image.show()"
   ]
  },
  {
   "cell_type": "markdown",
   "id": "c32fe72c",
   "metadata": {},
   "source": [
    "Caras Distintas"
   ]
  },
  {
   "cell_type": "code",
   "execution_count": null,
   "id": "03ff538a",
   "metadata": {},
   "outputs": [],
   "source": [
    "IMG_SOURCE =\"dataset/imgsource.jpg\"\n",
    "IMG_TARGET =\"dataset/img20.jpg\"\n",
    "response = rekognition_client.compare_faces(\n",
    "                SourceImage={\n",
    "                    'S3Object': {\n",
    "                        'Bucket': BUCKET,\n",
    "                        'Name': IMG_SOURCE\n",
    "                    }\n",
    "                },\n",
    "                TargetImage={\n",
    "                    'S3Object': {\n",
    "                        'Bucket': BUCKET,\n",
    "                        'Name': IMG_TARGET                    \n",
    "                    }\n",
    "                }\n",
    ")"
   ]
  },
  {
   "cell_type": "code",
   "execution_count": null,
   "id": "9669a1dc",
   "metadata": {},
   "outputs": [],
   "source": [
    "response"
   ]
  },
  {
   "cell_type": "code",
   "execution_count": null,
   "id": "8c14de6e",
   "metadata": {},
   "outputs": [],
   "source": [
    "# Analisis imagen source\n",
    "s3_object = s3_resource.Object(BUCKET,IMG_SOURCE)\n",
    "s3_response = s3_object.get()\n",
    "stream = io.BytesIO(s3_response['Body'].read())\n",
    "image=Image.open(stream)\n",
    "imgWidth, imgHeight = image.size  \n",
    "draw = ImageDraw.Draw(image)  \n",
    "\n",
    "box = response['SourceImageFace']['BoundingBox']\n",
    "left = imgWidth * box['Left']\n",
    "top = imgHeight * box['Top']\n",
    "width = imgWidth * box['Width']\n",
    "height = imgHeight * box['Height']\n",
    "\n",
    "print('Left: ' + '{0:.0f}'.format(left))\n",
    "print('Top: ' + '{0:.0f}'.format(top))\n",
    "print('Face Width: ' + \"{0:.0f}\".format(width))\n",
    "print('Face Height: ' + \"{0:.0f}\".format(height))\n",
    "\n",
    "points = (\n",
    "    (left,top),\n",
    "    (left + width, top),\n",
    "    (left + width, top + height),\n",
    "    (left , top + height),\n",
    "    (left, top)\n",
    "\n",
    ")\n",
    "draw.line(points, fill='#00d400', width=2)\n",
    "\n",
    "image.show()"
   ]
  },
  {
   "cell_type": "code",
   "execution_count": null,
   "id": "e9633387",
   "metadata": {},
   "outputs": [],
   "source": [
    "# Analisis imagen target\n",
    "s3_object = s3_resource.Object(BUCKET,IMG_TARGET)\n",
    "s3_response = s3_object.get()\n",
    "stream = io.BytesIO(s3_response['Body'].read())\n",
    "image=Image.open(stream)\n",
    "imgWidth, imgHeight = image.size  \n",
    "draw = ImageDraw.Draw(image)\n",
    "if len(response['UnmatchedFaces']) > 0:\n",
    "    for face in response['UnmatchedFaces']:\n",
    "        box = face['BoundingBox']\n",
    "        left = imgWidth * box['Left']\n",
    "        top = imgHeight * box['Top']\n",
    "        width = imgWidth * box['Width']\n",
    "        height = imgHeight * box['Height']\n",
    "        print('UnmatchedFaces')\n",
    "        print('Left: ' + '{0:.0f}'.format(left))\n",
    "        print('Top: ' + '{0:.0f}'.format(top))\n",
    "        print('Face Width: ' + \"{0:.0f}\".format(width))\n",
    "        print('Face Height: ' + \"{0:.0f}\".format(height))\n",
    "\n",
    "        points = (\n",
    "            (left,top),\n",
    "            (left + width, top),\n",
    "            (left + width, top + height),\n",
    "            (left , top + height),\n",
    "            (left, top)\n",
    "\n",
    "        )\n",
    "        draw.line(points, fill='#ff0000', width=2)\n",
    "        \n",
    "if len(response['FaceMatches']) > 0:\n",
    "    for face in response['FaceMatches']:\n",
    "        face_match = face['Face']\n",
    "        box = face_match['BoundingBox']\n",
    "        left = imgWidth * box['Left']\n",
    "        top = imgHeight * box['Top']\n",
    "        width = imgWidth * box['Width']\n",
    "        height = imgHeight * box['Height']\n",
    "        print('FaceMatches')\n",
    "        print('Left: ' + '{0:.0f}'.format(left))\n",
    "        print('Top: ' + '{0:.0f}'.format(top))\n",
    "        print('Face Width: ' + \"{0:.0f}\".format(width))\n",
    "        print('Face Height: ' + \"{0:.0f}\".format(height))\n",
    "\n",
    "        points = (\n",
    "            (left,top),\n",
    "            (left + width, top),\n",
    "            (left + width, top + height),\n",
    "            (left , top + height),\n",
    "            (left, top)\n",
    "\n",
    "        )\n",
    "        draw.line(points, fill='#00d400', width=2)        \n",
    "image.show()"
   ]
  }
 ],
 "metadata": {
  "kernelspec": {
   "display_name": "conda_python3",
   "language": "python",
   "name": "conda_python3"
  },
  "language_info": {
   "codemirror_mode": {
    "name": "ipython",
    "version": 3
   },
   "file_extension": ".py",
   "mimetype": "text/x-python",
   "name": "python",
   "nbconvert_exporter": "python",
   "pygments_lexer": "ipython3",
   "version": "3.6.13"
  }
 },
 "nbformat": 4,
 "nbformat_minor": 5
}
